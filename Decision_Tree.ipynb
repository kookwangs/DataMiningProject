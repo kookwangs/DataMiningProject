{
 "cells": [
  {
   "attachments": {},
   "cell_type": "markdown",
   "metadata": {},
   "source": [
    "# Decision Tree"
   ]
  },
  {
   "cell_type": "code",
   "execution_count": null,
   "metadata": {},
   "outputs": [],
   "source": [
    "# Import data\n",
    "\n",
    "import pandas as pd\n",
    "data = pd.read_csv(\"preprocessed_data.csv\")\n",
    "data"
   ]
  }
 ],
 "metadata": {
  "kernelspec": {
   "display_name": "Python 3",
   "language": "python",
   "name": "python3"
  },
  "language_info": {
   "name": "python",
   "version": "3.10.11"
  },
  "orig_nbformat": 4,
  "vscode": {
   "interpreter": {
    "hash": "6e92e8c68d8ec8acd1b54d30f4e0f3eac1c50abe7240279753f5901b5880dd84"
   }
  }
 },
 "nbformat": 4,
 "nbformat_minor": 2
}
