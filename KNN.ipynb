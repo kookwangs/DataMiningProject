{
 "cells": [
  {
   "cell_type": "code",
   "execution_count": 2,
   "metadata": {},
   "outputs": [
    {
     "name": "stdout",
     "output_type": "stream",
     "text": [
      "Predict on the value  [9, 10, 10]\n",
      "Using Euclidean function\n",
      "\t\toutput =  D\n"
     ]
    }
   ],
   "source": [
    "from collections import Counter\n",
    "import math\n",
    "import pandas as pd\n",
    "\n",
    "def knn(data, query, k, distance_fn, choice_fn, attrNumber):\n",
    "    neighbor_distances_and_indices = []\n",
    "    \n",
    "    # 3. For each example in the data\n",
    "    for index, example in enumerate(data):\n",
    "        # 3.1 Calculate the distance between the query example and the current\n",
    "        # example from the data.\n",
    "        distance = distance_fn(example, query, attrNumber)\n",
    "        \n",
    "        # 3.2 Add the distance and the index of the example to an ordered collection\n",
    "        neighbor_distances_and_indices.append((distance, index))\n",
    "    \n",
    "    # 4. Sort the ordered collection of distances and indices from\n",
    "    # smallest to largest (in ascending order) by the distances\n",
    "    sorted_neighbor_distances_and_indices = sorted(neighbor_distances_and_indices)\n",
    "    \n",
    "    # 5. Pick the first K entries from the sorted collection\n",
    "    k_nearest_distances_and_indices = sorted_neighbor_distances_and_indices[:k]\n",
    "    \n",
    "    # 6. Get the labels of the selected K entries\n",
    "    k_nearest_labels = [data[i][-1] for distance, i in k_nearest_distances_and_indices]\n",
    "    # 7. If regression (choice_fn = mean), return the average of the K labels\n",
    "    # 8. If classification (choice_fn = mode), return the mode of the K labels\n",
    "    return k_nearest_distances_and_indices , choice_fn(k_nearest_labels)\n",
    "\n",
    "def mode(labels):\n",
    "    return Counter(labels).most_common(1)[0][0]\n",
    "\n",
    "def euclidean_distance(sample, target, attrNumber):\n",
    "    sum_squared_distance = 0\n",
    "    for i in range(attrNumber):\n",
    "        sum_squared_distance += math.pow(sample[i] - target[i], 2)\n",
    "    return math.sqrt(sum_squared_distance)\n",
    "\n",
    "def main():\n",
    "    data = pd.read_csv(\"preprocessed_data.csv\")\n",
    "    selected_column1 = \"sit_and_bend_forward_cm\"\n",
    "    selected_column2 = \"sit_ups_counts\"\n",
    "    selected_column3 = \"broad_jump_cm\"\n",
    "\n",
    "    data1 = data[[selected_column1,selected_column2,selected_column3,'class']]\n",
    "\n",
    "    data1 = data1.values.tolist()\n",
    "    data1_predict = [9,10,10]\n",
    "    print(\"Predict on the value \", data1_predict)\n",
    "\n",
    "    # Euclidean function\n",
    "\n",
    "    print(\"Using Euclidean function\")\n",
    "    reg_k_nearest_neighbors, reg_prediction = knn(\n",
    "        data1, data1_predict, k=7, distance_fn=euclidean_distance, choice_fn=mode,attrNumber=3)\n",
    "    print(\"\\t\\toutput = \", reg_prediction)\n",
    "\n",
    "if __name__ == '__main__':\n",
    "    main()\n",
    "\n"
   ]
  },
  {
   "cell_type": "code",
   "execution_count": 24,
   "metadata": {},
   "outputs": [],
   "source": [
    "import numpy as np\n",
    "from sklearn.model_selection import train_test_split\n",
    "import pandas as pd\n",
    "\n",
    "data = pd.read_csv(\"preprocessed_data.csv\")\n",
    "selected_column = [\"sit_and_bend_forward_cm\", \"sit_ups_counts\", \"broad_jump_cm\", \"gripforce\", \"age\", \"body_fat_%\", \"class\"]\n",
    "\n",
    "data1 = data[selected_column]\n",
    "attrNumber = len(selected_column)-1\n",
    "\n",
    "train_data, test_data = train_test_split(data1, test_size=0.2)\n",
    "\n",
    "predict = []\n",
    "train_data = train_data.values.tolist()\n",
    "for i in range(len(test_data)):\n",
    "    test = test_data.iloc[i]\n",
    "    test = [test[0],test[1],test[2],test[3],test[4],test[5]]\n",
    "    reg_k_nearest_neighbors, reg_prediction = knn(\n",
    "        train_data, test, k=1, distance_fn=euclidean_distance, choice_fn=mode, attrNumber=attrNumber\n",
    "    )\n",
    "    predict.append(reg_prediction)"
   ]
  },
  {
   "cell_type": "code",
   "execution_count": 23,
   "metadata": {},
   "outputs": [
    {
     "name": "stdout",
     "output_type": "stream",
     "text": [
      "['A', 'B', 'A', 'C', 'A', 'D', 'D', 'C', 'B', 'C', 'B', 'C', 'C', 'D', 'B', 'A', 'C', 'B', 'C', 'C', 'B', 'C', 'B', 'B', 'A', 'A', 'D', 'A', 'B', 'D', 'D', 'C', 'A', 'D', 'C', 'C', 'A', 'B', 'C', 'A', 'B', 'A', 'B', 'C', 'B', 'D', 'B', 'B', 'A', 'A', 'B', 'D', 'D', 'C', 'C', 'A', 'B', 'A', 'A', 'D', 'A', 'C', 'A', 'A', 'C', 'C', 'B', 'A', 'B', 'A', 'A', 'B', 'A', 'A', 'A', 'A', 'C', 'A', 'C', 'B', 'A', 'D', 'B', 'A', 'A', 'D', 'A', 'A', 'B', 'A', 'A', 'A', 'C', 'B', 'C', 'C', 'C', 'A', 'C', 'D', 'D', 'C', 'A', 'B', 'D', 'B', 'B', 'A', 'A', 'C', 'D', 'B', 'C', 'A', 'A', 'A', 'B', 'D', 'A', 'A', 'B', 'B', 'A', 'B', 'D', 'C', 'C', 'C', 'A', 'A', 'C', 'B', 'D', 'A', 'B', 'C', 'A', 'A', 'C', 'D', 'C', 'C', 'C', 'D', 'D', 'D', 'B', 'A', 'B', 'B', 'B', 'A', 'B', 'A', 'D', 'C', 'C', 'A', 'B', 'C', 'C', 'C', 'C', 'A', 'C', 'D', 'C', 'D', 'A', 'A', 'B', 'C', 'B', 'A', 'D', 'B', 'A', 'D', 'A', 'C', 'D', 'C', 'B', 'D', 'B', 'B', 'A', 'C', 'A', 'B', 'C', 'C', 'B', 'B', 'A', 'A', 'A', 'C', 'B', 'A', 'D', 'C', 'A', 'A', 'A', 'B', 'C', 'B', 'B', 'B', 'C', 'C', 'B', 'A', 'A', 'A', 'A', 'A', 'D', 'B', 'D', 'A', 'C', 'A', 'A', 'B', 'B', 'C', 'B', 'B', 'C', 'C', 'B', 'C', 'D', 'B', 'A', 'A', 'A', 'A', 'A', 'C', 'B', 'A', 'C', 'D', 'A', 'B', 'C', 'B', 'A', 'C', 'A', 'C', 'B', 'C', 'C', 'D', 'D', 'C', 'B', 'B', 'B', 'C', 'C', 'A', 'D', 'C', 'B', 'A', 'B', 'D', 'B', 'A', 'A', 'D', 'B', 'D', 'A', 'A', 'C', 'B', 'D', 'B', 'B', 'B', 'A', 'A', 'B', 'B', 'C', 'C', 'B', 'C', 'C', 'C', 'D', 'C', 'A', 'C', 'B', 'B', 'C', 'A', 'B', 'B', 'D', 'D', 'A', 'C', 'A', 'C', 'A', 'C', 'D', 'D', 'A', 'D', 'C', 'D', 'C', 'C', 'A', 'D', 'A', 'B', 'C', 'B', 'A', 'C', 'C', 'C', 'A', 'D', 'B', 'A', 'C', 'B', 'C', 'A', 'D', 'A', 'C', 'B', 'D', 'C', 'A', 'A', 'B', 'C', 'A', 'A', 'C', 'D', 'A', 'C', 'C', 'B', 'B', 'A', 'C', 'A', 'D', 'D', 'D', 'D', 'D', 'D', 'C', 'A', 'C', 'B', 'A', 'A', 'A', 'A', 'D', 'B', 'B', 'D', 'A', 'C', 'C', 'A', 'C', 'A', 'C', 'C', 'C', 'B', 'C', 'C', 'A', 'D', 'A', 'A', 'A', 'B', 'A', 'A', 'C', 'D', 'A', 'C', 'C', 'D', 'C', 'B', 'A', 'D', 'A', 'C', 'A', 'B', 'A', 'A', 'B', 'D', 'C', 'B', 'D', 'A', 'D', 'B', 'B', 'B', 'B', 'A', 'C', 'D', 'B', 'B', 'A', 'A', 'B', 'B', 'A', 'B', 'A', 'C', 'B', 'D', 'D', 'A', 'C', 'B', 'C', 'A', 'D', 'B', 'B', 'D', 'C', 'C', 'A', 'D', 'A', 'D', 'C', 'A', 'D', 'D', 'B', 'A', 'D', 'A', 'B', 'C', 'C', 'C', 'C', 'A', 'C', 'C', 'A', 'D', 'A', 'A', 'D', 'A', 'D', 'B', 'A', 'D', 'A', 'D', 'A', 'A', 'D', 'B', 'A', 'A', 'A', 'C', 'A', 'A', 'A', 'D', 'D', 'D', 'A', 'A', 'A', 'A', 'A', 'C', 'B', 'B', 'A', 'A', 'A', 'B', 'D', 'B', 'B', 'D', 'A', 'B', 'B', 'B', 'A', 'A', 'B', 'A', 'A', 'D', 'B', 'B', 'B', 'C', 'C', 'A', 'D', 'A', 'D', 'D', 'A', 'A', 'D', 'B', 'D', 'B', 'B', 'B', 'C', 'A', 'D', 'B', 'D', 'B', 'D', 'A', 'B', 'B', 'D', 'A', 'C', 'A', 'B', 'B', 'A', 'B', 'A', 'A', 'A', 'B', 'B', 'C', 'B', 'B', 'C', 'C', 'A', 'D', 'A', 'B', 'A', 'D', 'A', 'B', 'C', 'D', 'A', 'C', 'C', 'A', 'A', 'A', 'D', 'A', 'D', 'D', 'C', 'A', 'A', 'A', 'D', 'D', 'D', 'B', 'A', 'B', 'C', 'D', 'D', 'B', 'A', 'A', 'B', 'A', 'A', 'A', 'C', 'A', 'D', 'C', 'C', 'B', 'D', 'D', 'C', 'D', 'A', 'A', 'D', 'C', 'A', 'D', 'B', 'D', 'A', 'C', 'D', 'D', 'A', 'C', 'D', 'A', 'B', 'B', 'D', 'D', 'B', 'A', 'B', 'A', 'B', 'A', 'D', 'A', 'A', 'B', 'D', 'B', 'A', 'C', 'A', 'B', 'A', 'C', 'C', 'A', 'A', 'B', 'C', 'B', 'D', 'C', 'D', 'C', 'B', 'D', 'C', 'C', 'D', 'A', 'A', 'A', 'A', 'B', 'B', 'C', 'C', 'D', 'B', 'A', 'D', 'D', 'C', 'B', 'D', 'D', 'D', 'D', 'B', 'B', 'D', 'D', 'A', 'A', 'B', 'C', 'B', 'A', 'C', 'A', 'A', 'B', 'C', 'A', 'D', 'A', 'C', 'C', 'C', 'B', 'A', 'A', 'C', 'B', 'B', 'C', 'D', 'A', 'C', 'A', 'C', 'B', 'A', 'A', 'C', 'D', 'B', 'C', 'C', 'B', 'B', 'A', 'B', 'B', 'A', 'D', 'A', 'C', 'A', 'A', 'A', 'C', 'C', 'D', 'D', 'B', 'A', 'A', 'C', 'A', 'C', 'A', 'A', 'C', 'C', 'C', 'B', 'C', 'B', 'A', 'C', 'B', 'D', 'C', 'A', 'A', 'D', 'A', 'C', 'D', 'A', 'D', 'A', 'A', 'B', 'C', 'A', 'D', 'D', 'B', 'D', 'B', 'D', 'C', 'D', 'A', 'B', 'C', 'C', 'C', 'B', 'A', 'C', 'A', 'B', 'B', 'A', 'A', 'B', 'B', 'A', 'B', 'B', 'C', 'C', 'B', 'C', 'A', 'A', 'A', 'B', 'A', 'A', 'D', 'B', 'C', 'D', 'A', 'B', 'B', 'A', 'D', 'B', 'D', 'B', 'C', 'C', 'A', 'B', 'A', 'C', 'D', 'B', 'B', 'D', 'C', 'A', 'B', 'C', 'C', 'B', 'C', 'A', 'B', 'A', 'A', 'B', 'C', 'C', 'C', 'C', 'B', 'A', 'C', 'B', 'D', 'A', 'B', 'A', 'A', 'B', 'B', 'C', 'A', 'A', 'B', 'A', 'A', 'A', 'B', 'C', 'A', 'D', 'B', 'B', 'C', 'A', 'A', 'C', 'C', 'C', 'C', 'A', 'D', 'A', 'D', 'B', 'D', 'A', 'D', 'C', 'B', 'A', 'A', 'D', 'A', 'C', 'B', 'D', 'A', 'A', 'A', 'D', 'A', 'A', 'D', 'B', 'B', 'C', 'D', 'D', 'D', 'D', 'A', 'D', 'B', 'B', 'D', 'C', 'C', 'A', 'C', 'C', 'A', 'D', 'A', 'A', 'A', 'D', 'C', 'B', 'A', 'C', 'A', 'B', 'A', 'C', 'D', 'C', 'B', 'D', 'A', 'B', 'B', 'A', 'D', 'B', 'D', 'A', 'C', 'B', 'D', 'A', 'C', 'B', 'A', 'B', 'C', 'D', 'C', 'C', 'A', 'B', 'A', 'A', 'A', 'A', 'A', 'B', 'B', 'C', 'B', 'A', 'B', 'C', 'B', 'C', 'C', 'C', 'A', 'B', 'C', 'A', 'B', 'A', 'B', 'C', 'A', 'A', 'D', 'C', 'A', 'A', 'D', 'A', 'A', 'C', 'B', 'A', 'D', 'A', 'A', 'B', 'C', 'C', 'D', 'A', 'A', 'C', 'B', 'D', 'A', 'A', 'A', 'D', 'D', 'B', 'D', 'A', 'C', 'A', 'B', 'A', 'B', 'A', 'D', 'D', 'A', 'D', 'C', 'C', 'B', 'D', 'A', 'A', 'A', 'A', 'C', 'C', 'A', 'C', 'A', 'A', 'D', 'C', 'B', 'A', 'C', 'B', 'A', 'D', 'B', 'D', 'A', 'B', 'B', 'D', 'A', 'D', 'B', 'A', 'B', 'C', 'C', 'C', 'C', 'A', 'C', 'B', 'C', 'B', 'C', 'D', 'B', 'B', 'A', 'B', 'B', 'B', 'B', 'C', 'C', 'A', 'D', 'D', 'A', 'B', 'A', 'D', 'A', 'A', 'C', 'B', 'B', 'A', 'B', 'D', 'A', 'C', 'C', 'B', 'A', 'A', 'A', 'B', 'D', 'A', 'A', 'C', 'A', 'C', 'B', 'B', 'A', 'C', 'C', 'A', 'D', 'C', 'A', 'B', 'D', 'C', 'A', 'B', 'C', 'A', 'A', 'A', 'B', 'A', 'D', 'B', 'B', 'A', 'B', 'A', 'A', 'C', 'B', 'B', 'C', 'B', 'A', 'A', 'D', 'B', 'B', 'A', 'A', 'B', 'B', 'C', 'B', 'C', 'D', 'A', 'A', 'C', 'D', 'C', 'A', 'A', 'A', 'C', 'A', 'B', 'D', 'C', 'A', 'C', 'B', 'A', 'B', 'D', 'B', 'C', 'D', 'B', 'C', 'B', 'A', 'A', 'A', 'B', 'A', 'A', 'A', 'A', 'C', 'B', 'A', 'C', 'B', 'A', 'B', 'C', 'C', 'D', 'A', 'B', 'C', 'B', 'C', 'B', 'B', 'C', 'A', 'A', 'B', 'C', 'C', 'B', 'C', 'D', 'B', 'C', 'D', 'D', 'A', 'B', 'C', 'C', 'A', 'A', 'C', 'D', 'C', 'A', 'D', 'B', 'C', 'B', 'A', 'B', 'B', 'A', 'C', 'A', 'A', 'A', 'C', 'C', 'A', 'C', 'C', 'C', 'C', 'B', 'A', 'A', 'C', 'C', 'B', 'B', 'A', 'D', 'D', 'D', 'B', 'B', 'B', 'B', 'C', 'A', 'C', 'C', 'D', 'A', 'B', 'A', 'B', 'C', 'A', 'B', 'C', 'C', 'C', 'C', 'C', 'A', 'A', 'B', 'B', 'B', 'B', 'C', 'A', 'C', 'C', 'C', 'C', 'C', 'A', 'B', 'C', 'C', 'D', 'A', 'C', 'C', 'C', 'B', 'B', 'A', 'A', 'A', 'A', 'B', 'C', 'A', 'A', 'A', 'B', 'D', 'D', 'B', 'D', 'A', 'B', 'D', 'B', 'A', 'A', 'C', 'C', 'A', 'A', 'B', 'D', 'B', 'D', 'B', 'C', 'A', 'C', 'B', 'D', 'C', 'B', 'A', 'A', 'C', 'B', 'B', 'A', 'D', 'D', 'B', 'C', 'D', 'B', 'A', 'B', 'B', 'A', 'C', 'A', 'A', 'C', 'A', 'B', 'A', 'C', 'B', 'C', 'A', 'B', 'C', 'A', 'A', 'B', 'A', 'B', 'C', 'B', 'D', 'A', 'D', 'D', 'B', 'A', 'B', 'D', 'D', 'A', 'D', 'A', 'C', 'C', 'A', 'B', 'C', 'D', 'A', 'A', 'D', 'D', 'B', 'C', 'C', 'B', 'A', 'B', 'C', 'A', 'D', 'B', 'B', 'A', 'D', 'A', 'B', 'A', 'C', 'A', 'D', 'C', 'C', 'A', 'C', 'A', 'D', 'C', 'D', 'B', 'C', 'C', 'C', 'B', 'C', 'A', 'A', 'A', 'A', 'B', 'D', 'A', 'D', 'B', 'D', 'C', 'D', 'D', 'A', 'A', 'B', 'B', 'C', 'A', 'A', 'B', 'D', 'D', 'A', 'B', 'A', 'C', 'A', 'C', 'B', 'C', 'C', 'D', 'C', 'C', 'D', 'C', 'D', 'B', 'D', 'B', 'B', 'D', 'D', 'C', 'A', 'A', 'D', 'B', 'B', 'B', 'C', 'A', 'B', 'A', 'A', 'B', 'C', 'C', 'B', 'A', 'D', 'B', 'B', 'C', 'A', 'C', 'C', 'A', 'C', 'B', 'B', 'B', 'D', 'D', 'A', 'D', 'D', 'C', 'D', 'B', 'D', 'D', 'A', 'A', 'A', 'A', 'C', 'C', 'D', 'B', 'C', 'C', 'A', 'B', 'A', 'A', 'A', 'C', 'A', 'A', 'D', 'D', 'C', 'A', 'D', 'A', 'A', 'D', 'A', 'A', 'B', 'A', 'C', 'A', 'D', 'A', 'C', 'D', 'B', 'D', 'B', 'A', 'C', 'A', 'C', 'A', 'D', 'A', 'C', 'A', 'B', 'C', 'B', 'C', 'A', 'D', 'A', 'D', 'A', 'A', 'D', 'D', 'C', 'B', 'C', 'A', 'C', 'C', 'B', 'B', 'A', 'D', 'A', 'D', 'A', 'B', 'A', 'A', 'D', 'B', 'D', 'B', 'C', 'C', 'D', 'B', 'B', 'B', 'A', 'C', 'A', 'A', 'D', 'D', 'B', 'A', 'C', 'A', 'C', 'B', 'D', 'C', 'C', 'C', 'C', 'B', 'A', 'B', 'D', 'A', 'D', 'A', 'C', 'C', 'A', 'A', 'B', 'B', 'C', 'A', 'A', 'B', 'A', 'B', 'A', 'A', 'B', 'A', 'A', 'A', 'B', 'A', 'D', 'A', 'B', 'A', 'B', 'A', 'C', 'A', 'B', 'C', 'C', 'A', 'A', 'B', 'D', 'A', 'B', 'A', 'B', 'B', 'B', 'D', 'C', 'B', 'A', 'C', 'B', 'D', 'A', 'B', 'D', 'D', 'D', 'C', 'C', 'A', 'D', 'D', 'A', 'A', 'B', 'B', 'C', 'D', 'B', 'B', 'A', 'D', 'C', 'B', 'A', 'D', 'B', 'A', 'A', 'D', 'B', 'A', 'A', 'B', 'A', 'C', 'C', 'B', 'A', 'C', 'A', 'A', 'B', 'C', 'D', 'D', 'C', 'C', 'A', 'A', 'B', 'C', 'A', 'A', 'D', 'D', 'A', 'A', 'A', 'B', 'B', 'C', 'B', 'B', 'B', 'A', 'C', 'D', 'B', 'C', 'B', 'A', 'A', 'B', 'C', 'A', 'B', 'C', 'B', 'B', 'D', 'D', 'D', 'C', 'B', 'B', 'B', 'D', 'C', 'A', 'A', 'C', 'C', 'A', 'A', 'B', 'A', 'A', 'C', 'C', 'B', 'A', 'B', 'A', 'C', 'B', 'B', 'B', 'D', 'C', 'D', 'A', 'D', 'A', 'C', 'A', 'B', 'B', 'B', 'C', 'A', 'B', 'B', 'D', 'D', 'B', 'D', 'B', 'C', 'C', 'D', 'C', 'C', 'C', 'A', 'B', 'D', 'A', 'A', 'D', 'B', 'B', 'B', 'C', 'A', 'A', 'D', 'B', 'C', 'A', 'C', 'B', 'C', 'B', 'A', 'A', 'C', 'B', 'C', 'A', 'D', 'C', 'C', 'B', 'B', 'B', 'B', 'C', 'D', 'D', 'C', 'C', 'A', 'A', 'A', 'B', 'D', 'B', 'A', 'D', 'A', 'A', 'C', 'A', 'C', 'A', 'A', 'A', 'C', 'A', 'C', 'B', 'B', 'C', 'A', 'D', 'A', 'B', 'A', 'C', 'B', 'A', 'A', 'A', 'A', 'C', 'A', 'A', 'A', 'B', 'B', 'C', 'B', 'C', 'B', 'D', 'D', 'A', 'D', 'A', 'D', 'D', 'C', 'D', 'D', 'B', 'A', 'A', 'A', 'B', 'B', 'B', 'B', 'C', 'A', 'C', 'A', 'B', 'B', 'A', 'D', 'C', 'B', 'B', 'A', 'A', 'A', 'D', 'A', 'A', 'D', 'B', 'C', 'A', 'A', 'A', 'C', 'D', 'B', 'A', 'A', 'A', 'D', 'C', 'D', 'B', 'B', 'D', 'B', 'A', 'A', 'A', 'A', 'B', 'A', 'A', 'D', 'C', 'B', 'A', 'B', 'A', 'D', 'A', 'A', 'A', 'A', 'B', 'D', 'C', 'D', 'D', 'B', 'B', 'B', 'C', 'D', 'D', 'B', 'A', 'A', 'A', 'D', 'D', 'C', 'B', 'A', 'B', 'D', 'B', 'D', 'D', 'A', 'C', 'A', 'B', 'D', 'A', 'B', 'C', 'A', 'A', 'C', 'D', 'D', 'C', 'A', 'D', 'B', 'C', 'D', 'C', 'B', 'C', 'C', 'B', 'A', 'B', 'A', 'D', 'D', 'A', 'A', 'D', 'B', 'B', 'B', 'A', 'B', 'A', 'C', 'C', 'C', 'D', 'B', 'A', 'A', 'A', 'C', 'A', 'A', 'C', 'A', 'A', 'B', 'C', 'D', 'B', 'C', 'A', 'B', 'C', 'A', 'D', 'D', 'B', 'B', 'A', 'C', 'A', 'D', 'A', 'A', 'A', 'A', 'A', 'C', 'A', 'B', 'D', 'B', 'A', 'B', 'A', 'C', 'B', 'A', 'A', 'D', 'B', 'B', 'C', 'A', 'A', 'A', 'A', 'A', 'B', 'B', 'C', 'D', 'C', 'A', 'D', 'C', 'B', 'D', 'B', 'A', 'C', 'A', 'C', 'A', 'B', 'A', 'C', 'A', 'A', 'D', 'B', 'D', 'C', 'A', 'C', 'C', 'D', 'B', 'C', 'C', 'C', 'B', 'D', 'A', 'B', 'B', 'B', 'C', 'C', 'B', 'B', 'B', 'C', 'B', 'A', 'C', 'B', 'C', 'B', 'A', 'D', 'C', 'A', 'C', 'B', 'C', 'A', 'A', 'C', 'D', 'A', 'A', 'D', 'C', 'A', 'C', 'A', 'A', 'D', 'C', 'B', 'B', 'C', 'B', 'A', 'C', 'C', 'D', 'D', 'C', 'A', 'B', 'B', 'D', 'D', 'A', 'B', 'B', 'C', 'B', 'D', 'A', 'D', 'A', 'D', 'C', 'B', 'B', 'B', 'C', 'C', 'D', 'C', 'C', 'C', 'A', 'D', 'D', 'B', 'A', 'D', 'B', 'A', 'D', 'D', 'D', 'A', 'A', 'C', 'C', 'B', 'A', 'A', 'A', 'C', 'B', 'A', 'D', 'D', 'A', 'C', 'C', 'C', 'C', 'B', 'A', 'A', 'A', 'D', 'A', 'A', 'D', 'B', 'B', 'D', 'B', 'A', 'C', 'C', 'A', 'D', 'D', 'C', 'D', 'C', 'A', 'B', 'C', 'D', 'B', 'C', 'D', 'C', 'D', 'B', 'D', 'B', 'C', 'C', 'C', 'D', 'C', 'A', 'B', 'B', 'D', 'D', 'C', 'D', 'A', 'A', 'C', 'B', 'D', 'D', 'A', 'B', 'D', 'A', 'D', 'C', 'A', 'C', 'A', 'D', 'D', 'B', 'D', 'B', 'B', 'B', 'B', 'A', 'A', 'D', 'B', 'C', 'C', 'A', 'C', 'C', 'B', 'B', 'C', 'A', 'B', 'A', 'A', 'C', 'C', 'C', 'C', 'D', 'C', 'A', 'C', 'D', 'B', 'C', 'A', 'C', 'B', 'A', 'B', 'B', 'B', 'D', 'C', 'A', 'C', 'C', 'B', 'C', 'C', 'A', 'B', 'C', 'A', 'C', 'B', 'C', 'C', 'D', 'B', 'C', 'B', 'A', 'A', 'D', 'C', 'D', 'B', 'C', 'D', 'B', 'B', 'C', 'A', 'A', 'C', 'D', 'B', 'C', 'A', 'D', 'C', 'C', 'A', 'C', 'C', 'C', 'A', 'A', 'B', 'C', 'C', 'C', 'C', 'D', 'A', 'B', 'A', 'D', 'D', 'C', 'C', 'A', 'B', 'B', 'C', 'A', 'D', 'B', 'D', 'B', 'D', 'D', 'A', 'D', 'A', 'D', 'D', 'A', 'D', 'C', 'A', 'B', 'A', 'C', 'C', 'A', 'B', 'A', 'C', 'A', 'D', 'A', 'A', 'B', 'A', 'A', 'B', 'D', 'A', 'A', 'B', 'A', 'B', 'C', 'A', 'C', 'C', 'B', 'A', 'A', 'C', 'B', 'C', 'D', 'B', 'B', 'A', 'B', 'D', 'C', 'B', 'A', 'C', 'D', 'B', 'B', 'B', 'C', 'B', 'B', 'B', 'A', 'A', 'B', 'C', 'C', 'C', 'A', 'D', 'B', 'A', 'C', 'B', 'D', 'B', 'D', 'D', 'B', 'A', 'A', 'C', 'A', 'A', 'C', 'D', 'A', 'A', 'D', 'B', 'C', 'D', 'C', 'B', 'C', 'B', 'A', 'C', 'C', 'B', 'C', 'D', 'C', 'A', 'C', 'C', 'D', 'B', 'C', 'D', 'A', 'D', 'A', 'A', 'B', 'C', 'A', 'D', 'A', 'A', 'A', 'C', 'C', 'B', 'D', 'C', 'C', 'A', 'C', 'A', 'B', 'D', 'D', 'A', 'A', 'A', 'A', 'B', 'B', 'C', 'A', 'B', 'A', 'C', 'A', 'B', 'D', 'A', 'B', 'D', 'A', 'B', 'C', 'C', 'A', 'D', 'B', 'B', 'B', 'D', 'D', 'C', 'C', 'B', 'C', 'D', 'B', 'C', 'B', 'A', 'B', 'C', 'B', 'B', 'C', 'C', 'C', 'D', 'C', 'B', 'A', 'A', 'D', 'D', 'B', 'C', 'A', 'D', 'B', 'B', 'C', 'A', 'A', 'D', 'A', 'A', 'B', 'A', 'A', 'C', 'D', 'B', 'A', 'A', 'B', 'A', 'B', 'D', 'A', 'B', 'A', 'D', 'B', 'A', 'A', 'B', 'C', 'B', 'C', 'C', 'A', 'A', 'B', 'C', 'C', 'D', 'D', 'D', 'C', 'D', 'D', 'A', 'A', 'A', 'D', 'C', 'D', 'A', 'B', 'A', 'C', 'B', 'A', 'B', 'B', 'B', 'D', 'A', 'B', 'B', 'A', 'B', 'D', 'C', 'A', 'C', 'C', 'D', 'C', 'B', 'B', 'D', 'B', 'B', 'D', 'D', 'B', 'A', 'C', 'C', 'A', 'B', 'A', 'C', 'A']\n",
      "['B', 'B', 'B', 'C', 'A', 'D', 'D', 'D', 'B', 'C', 'C', 'C', 'D', 'D', 'B', 'A', 'D', 'C', 'D', 'D', 'D', 'D', 'A', 'B', 'A', 'B', 'D', 'C', 'B', 'D', 'D', 'C', 'B', 'D', 'C', 'C', 'A', 'B', 'C', 'A', 'A', 'B', 'C', 'C', 'A', 'D', 'C', 'B', 'A', 'A', 'B', 'D', 'D', 'C', 'C', 'A', 'A', 'C', 'A', 'B', 'A', 'C', 'A', 'A', 'C', 'D', 'C', 'A', 'B', 'A', 'A', 'C', 'C', 'A', 'B', 'A', 'C', 'A', 'B', 'B', 'D', 'D', 'B', 'A', 'A', 'D', 'B', 'A', 'A', 'A', 'A', 'B', 'C', 'C', 'D', 'C', 'C', 'A', 'C', 'D', 'D', 'B', 'A', 'D', 'D', 'B', 'B', 'B', 'A', 'C', 'D', 'B', 'C', 'B', 'A', 'A', 'B', 'D', 'B', 'A', 'B', 'C', 'A', 'C', 'D', 'B', 'D', 'C', 'B', 'A', 'C', 'C', 'D', 'B', 'B', 'D', 'D', 'A', 'D', 'D', 'B', 'C', 'B', 'D', 'D', 'D', 'B', 'A', 'C', 'B', 'B', 'A', 'A', 'A', 'D', 'B', 'C', 'B', 'C', 'C', 'C', 'C', 'D', 'A', 'C', 'D', 'C', 'D', 'A', 'C', 'C', 'B', 'A', 'A', 'D', 'A', 'A', 'D', 'A', 'D', 'D', 'D', 'B', 'C', 'B', 'C', 'B', 'C', 'A', 'A', 'C', 'C', 'B', 'C', 'C', 'C', 'A', 'C', 'D', 'B', 'D', 'C', 'A', 'C', 'A', 'B', 'C', 'B', 'D', 'B', 'C', 'C', 'A', 'B', 'A', 'A', 'B', 'A', 'D', 'B', 'D', 'A', 'C', 'A', 'A', 'C', 'B', 'C', 'B', 'C', 'C', 'D', 'B', 'C', 'D', 'C', 'A', 'A', 'A', 'A', 'A', 'C', 'C', 'A', 'D', 'D', 'C', 'C', 'D', 'D', 'B', 'D', 'C', 'C', 'B', 'D', 'B', 'D', 'D', 'C', 'C', 'A', 'B', 'C', 'D', 'B', 'D', 'C', 'C', 'B', 'B', 'D', 'C', 'B', 'B', 'D', 'B', 'D', 'B', 'A', 'D', 'A', 'D', 'B', 'C', 'B', 'A', 'A', 'C', 'C', 'C', 'D', 'B', 'C', 'D', 'D', 'D', 'C', 'A', 'C', 'B', 'B', 'B', 'A', 'B', 'B', 'D', 'D', 'A', 'C', 'A', 'C', 'A', 'D', 'D', 'D', 'C', 'D', 'D', 'D', 'B', 'C', 'B', 'D', 'A', 'C', 'B', 'B', 'A', 'B', 'C', 'C', 'B', 'D', 'C', 'D', 'D', 'C', 'D', 'B', 'D', 'D', 'D', 'B', 'D', 'C', 'A', 'B', 'B', 'C', 'A', 'A', 'C', 'D', 'A', 'C', 'C', 'C', 'B', 'A', 'D', 'A', 'D', 'D', 'D', 'D', 'D', 'D', 'D', 'A', 'B', 'B', 'A', 'A', 'A', 'A', 'D', 'B', 'A', 'D', 'A', 'D', 'C', 'A', 'C', 'B', 'D', 'B', 'B', 'C', 'D', 'B', 'A', 'D', 'B', 'C', 'A', 'B', 'A', 'A', 'D', 'D', 'A', 'C', 'C', 'D', 'C', 'B', 'A', 'D', 'A', 'C', 'A', 'B', 'A', 'A', 'B', 'D', 'B', 'C', 'D', 'A', 'D', 'B', 'C', 'B', 'C', 'B', 'D', 'D', 'B', 'B', 'A', 'B', 'C', 'B', 'A', 'C', 'A', 'B', 'B', 'D', 'D', 'B', 'C', 'B', 'B', 'A', 'D', 'A', 'B', 'D', 'C', 'B', 'A', 'D', 'B', 'D', 'C', 'B', 'D', 'D', 'B', 'A', 'D', 'B', 'C', 'C', 'B', 'D', 'C', 'A', 'C', 'D', 'A', 'D', 'B', 'B', 'C', 'A', 'D', 'C', 'A', 'C', 'A', 'C', 'A', 'A', 'D', 'C', 'B', 'A', 'B', 'C', 'B', 'C', 'A', 'D', 'D', 'D', 'A', 'B', 'A', 'A', 'D', 'B', 'B', 'A', 'A', 'C', 'B', 'B', 'D', 'B', 'B', 'D', 'B', 'C', 'A', 'C', 'B', 'A', 'C', 'B', 'C', 'D', 'B', 'C', 'B', 'D', 'C', 'A', 'D', 'A', 'D', 'D', 'A', 'A', 'B', 'D', 'D', 'D', 'C', 'B', 'B', 'D', 'D', 'B', 'D', 'B', 'D', 'A', 'A', 'A', 'D', 'A', 'C', 'A', 'B', 'B', 'A', 'C', 'A', 'A', 'B', 'D', 'C', 'C', 'A', 'B', 'B', 'C', 'B', 'D', 'B', 'B', 'B', 'D', 'A', 'B', 'C', 'D', 'D', 'C', 'D', 'A', 'A', 'C', 'D', 'A', 'D', 'C', 'C', 'A', 'A', 'A', 'D', 'D', 'D', 'C', 'A', 'C', 'C', 'D', 'D', 'B', 'A', 'A', 'B', 'B', 'A', 'A', 'B', 'A', 'D', 'C', 'C', 'B', 'D', 'C', 'D', 'D', 'A', 'A', 'D', 'C', 'A', 'D', 'A', 'D', 'C', 'C', 'D', 'D', 'A', 'C', 'D', 'C', 'B', 'C', 'D', 'D', 'C', 'A', 'B', 'A', 'B', 'A', 'D', 'A', 'A', 'D', 'D', 'B', 'A', 'B', 'A', 'B', 'D', 'C', 'C', 'A', 'A', 'C', 'C', 'B', 'D', 'D', 'C', 'C', 'D', 'D', 'C', 'B', 'D', 'A', 'A', 'A', 'A', 'B', 'C', 'B', 'C', 'D', 'C', 'A', 'D', 'D', 'C', 'A', 'D', 'D', 'C', 'D', 'A', 'A', 'D', 'D', 'A', 'C', 'B', 'B', 'A', 'A', 'C', 'B', 'B', 'C', 'D', 'B', 'D', 'A', 'C', 'C', 'C', 'B', 'A', 'A', 'D', 'A', 'A', 'D', 'D', 'A', 'A', 'A', 'D', 'D', 'A', 'A', 'C', 'C', 'B', 'C', 'C', 'B', 'B', 'A', 'A', 'B', 'A', 'D', 'A', 'C', 'A', 'A', 'A', 'C', 'C', 'D', 'D', 'C', 'A', 'B', 'D', 'B', 'D', 'B', 'B', 'D', 'C', 'C', 'B', 'C', 'A', 'A', 'D', 'B', 'D', 'D', 'B', 'B', 'D', 'A', 'C', 'D', 'A', 'D', 'B', 'A', 'B', 'C', 'B', 'C', 'D', 'B', 'D', 'A', 'D', 'C', 'D', 'B', 'B', 'A', 'C', 'C', 'A', 'B', 'B', 'A', 'C', 'B', 'B', 'A', 'B', 'C', 'B', 'C', 'C', 'C', 'C', 'B', 'C', 'A', 'A', 'A', 'C', 'B', 'A', 'D', 'B', 'C', 'D', 'A', 'D', 'B', 'B', 'D', 'B', 'D', 'D', 'C', 'D', 'A', 'A', 'B', 'B', 'D', 'B', 'C', 'C', 'C', 'A', 'B', 'C', 'B', 'C', 'B', 'A', 'B', 'D', 'B', 'B', 'C', 'D', 'B', 'B', 'C', 'B', 'C', 'C', 'C', 'B', 'C', 'B', 'A', 'B', 'C', 'B', 'B', 'A', 'D', 'C', 'A', 'A', 'C', 'C', 'C', 'D', 'B', 'B', 'C', 'A', 'A', 'D', 'C', 'C', 'C', 'A', 'D', 'C', 'D', 'D', 'D', 'A', 'C', 'C', 'C', 'B', 'A', 'D', 'A', 'C', 'C', 'D', 'B', 'A', 'B', 'D', 'B', 'B', 'D', 'B', 'B', 'A', 'D', 'D', 'D', 'D', 'C', 'D', 'C', 'B', 'D', 'B', 'B', 'A', 'D', 'D', 'A', 'D', 'A', 'A', 'B', 'D', 'C', 'C', 'D', 'C', 'A', 'A', 'A', 'C', 'D', 'B', 'C', 'D', 'A', 'C', 'B', 'A', 'D', 'B', 'D', 'C', 'B', 'B', 'D', 'A', 'C', 'B', 'A', 'D', 'C', 'D', 'C', 'C', 'A', 'B', 'A', 'A', 'B', 'A', 'A', 'A', 'D', 'D', 'B', 'C', 'D', 'C', 'A', 'C', 'D', 'C', 'A', 'C', 'C', 'B', 'A', 'A', 'B', 'C', 'C', 'A', 'D', 'D', 'B', 'A', 'D', 'A', 'A', 'C', 'B', 'A', 'D', 'B', 'A', 'B', 'D', 'B', 'D', 'A', 'A', 'C', 'B', 'D', 'B', 'A', 'C', 'D', 'C', 'C', 'D', 'A', 'C', 'A', 'B', 'A', 'B', 'B', 'D', 'D', 'B', 'D', 'C', 'C', 'B', 'D', 'A', 'A', 'A', 'A', 'C', 'C', 'D', 'C', 'A', 'A', 'D', 'C', 'C', 'A', 'C', 'C', 'A', 'D', 'C', 'D', 'A', 'B', 'B', 'D', 'A', 'D', 'B', 'A', 'B', 'C', 'D', 'B', 'D', 'B', 'B', 'C', 'C', 'B', 'C', 'D', 'C', 'B', 'A', 'B', 'C', 'B', 'B', 'C', 'C', 'C', 'C', 'D', 'B', 'B', 'D', 'D', 'A', 'A', 'C', 'B', 'C', 'C', 'B', 'D', 'A', 'C', 'C', 'C', 'A', 'A', 'B', 'D', 'D', 'A', 'C', 'C', 'A', 'C', 'B', 'B', 'A', 'C', 'B', 'B', 'D', 'C', 'B', 'B', 'D', 'C', 'A', 'C', 'D', 'A', 'A', 'A', 'C', 'A', 'D', 'B', 'A', 'A', 'B', 'A', 'A', 'D', 'B', 'C', 'C', 'B', 'A', 'B', 'D', 'C', 'A', 'B', 'A', 'B', 'B', 'C', 'C', 'D', 'D', 'A', 'A', 'B', 'D', 'D', 'B', 'A', 'A', 'D', 'A', 'B', 'D', 'C', 'B', 'C', 'D', 'A', 'B', 'D', 'B', 'D', 'D', 'C', 'C', 'B', 'A', 'B', 'A', 'B', 'D', 'A', 'A', 'A', 'C', 'B', 'A', 'D', 'C', 'A', 'B', 'D', 'C', 'D', 'A', 'C', 'B', 'D', 'C', 'B', 'B', 'C', 'A', 'C', 'B', 'C', 'C', 'B', 'D', 'D', 'D', 'C', 'D', 'D', 'C', 'D', 'D', 'D', 'A', 'A', 'C', 'D', 'D', 'A', 'C', 'C', 'C', 'B', 'A', 'B', 'A', 'A', 'D', 'A', 'D', 'C', 'D', 'D', 'B', 'C', 'C', 'C', 'C', 'B', 'A', 'A', 'C', 'C', 'B', 'B', 'A', 'D', 'D', 'D', 'C', 'C', 'B', 'B', 'C', 'C', 'C', 'C', 'D', 'A', 'C', 'A', 'D', 'C', 'A', 'D', 'C', 'C', 'B', 'C', 'C', 'A', 'B', 'C', 'B', 'B', 'B', 'C', 'C', 'B', 'B', 'C', 'C', 'C', 'A', 'A', 'B', 'B', 'B', 'A', 'C', 'C', 'D', 'B', 'C', 'A', 'A', 'A', 'A', 'C', 'C', 'A', 'B', 'A', 'A', 'D', 'D', 'A', 'B', 'A', 'B', 'D', 'C', 'B', 'A', 'C', 'C', 'A', 'D', 'B', 'C', 'C', 'D', 'B', 'D', 'A', 'C', 'C', 'D', 'C', 'A', 'B', 'A', 'D', 'C', 'B', 'B', 'D', 'D', 'C', 'D', 'D', 'A', 'A', 'A', 'A', 'A', 'C', 'A', 'C', 'C', 'A', 'D', 'A', 'C', 'B', 'A', 'A', 'B', 'D', 'A', 'B', 'C', 'A', 'C', 'C', 'D', 'C', 'A', 'D', 'D', 'B', 'A', 'A', 'D', 'D', 'A', 'D', 'B', 'B', 'D', 'A', 'B', 'C', 'D', 'D', 'A', 'D', 'D', 'B', 'D', 'B', 'B', 'B', 'C', 'A', 'B', 'D', 'A', 'D', 'A', 'D', 'A', 'D', 'A', 'C', 'A', 'D', 'D', 'B', 'A', 'C', 'B', 'D', 'C', 'D', 'C', 'C', 'C', 'C', 'A', 'C', 'B', 'A', 'A', 'A', 'B', 'D', 'B', 'D', 'B', 'D', 'C', 'D', 'D', 'C', 'A', 'C', 'B', 'C', 'B', 'A', 'B', 'C', 'D', 'A', 'A', 'B', 'C', 'B', 'C', 'B', 'C', 'C', 'D', 'D', 'C', 'D', 'D', 'D', 'B', 'D', 'A', 'B', 'D', 'D', 'C', 'A', 'C', 'D', 'B', 'D', 'B', 'C', 'A', 'C', 'A', 'B', 'C', 'C', 'B', 'A', 'A', 'D', 'C', 'B', 'C', 'A', 'C', 'C', 'A', 'A', 'C', 'B', 'C', 'D', 'D', 'C', 'C', 'D', 'D', 'D', 'C', 'D', 'D', 'A', 'A', 'A', 'A', 'C', 'D', 'D', 'B', 'D', 'C', 'B', 'B', 'A', 'B', 'A', 'B', 'A', 'A', 'D', 'D', 'C', 'B', 'D', 'C', 'B', 'D', 'A', 'A', 'C', 'B', 'C', 'A', 'D', 'A', 'C', 'D', 'B', 'D', 'B', 'B', 'D', 'D', 'B', 'A', 'D', 'B', 'C', 'A', 'A', 'C', 'B', 'C', 'A', 'D', 'A', 'D', 'A', 'A', 'D', 'D', 'C', 'A', 'B', 'A', 'C', 'C', 'B', 'B', 'A', 'D', 'B', 'D', 'A', 'B', 'A', 'B', 'D', 'D', 'D', 'B', 'B', 'B', 'D', 'B', 'B', 'C', 'B', 'C', 'A', 'B', 'C', 'D', 'B', 'B', 'D', 'C', 'D', 'B', 'D', 'D', 'C', 'C', 'D', 'B', 'C', 'D', 'D', 'B', 'D', 'C', 'D', 'C', 'A', 'B', 'C', 'A', 'C', 'D', 'A', 'B', 'A', 'A', 'A', 'A', 'B', 'A', 'C', 'B', 'C', 'A', 'D', 'A', 'C', 'C', 'A', 'A', 'D', 'B', 'B', 'C', 'C', 'A', 'A', 'C', 'D', 'B', 'C', 'A', 'B', 'C', 'D', 'D', 'C', 'A', 'A', 'C', 'C', 'D', 'A', 'C', 'D', 'D', 'D', 'D', 'D', 'A', 'D', 'D', 'C', 'A', 'C', 'B', 'C', 'D', 'B', 'B', 'C', 'D', 'C', 'B', 'A', 'D', 'C', 'C', 'C', 'D', 'A', 'A', 'C', 'B', 'B', 'C', 'D', 'C', 'A', 'C', 'D', 'A', 'B', 'C', 'C', 'D', 'C', 'C', 'A', 'A', 'C', 'C', 'A', 'A', 'C', 'D', 'A', 'B', 'A', 'B', 'C', 'C', 'B', 'B', 'B', 'B', 'D', 'D', 'B', 'C', 'B', 'A', 'A', 'D', 'C', 'A', 'A', 'C', 'C', 'A', 'D', 'D', 'C', 'B', 'B', 'C', 'C', 'D', 'D', 'C', 'A', 'C', 'B', 'B', 'A', 'A', 'B', 'B', 'D', 'C', 'B', 'C', 'C', 'A', 'C', 'B', 'A', 'C', 'D', 'D', 'D', 'A', 'D', 'A', 'C', 'A', 'B', 'B', 'B', 'C', 'A', 'B', 'B', 'B', 'D', 'B', 'D', 'A', 'B', 'C', 'C', 'D', 'C', 'C', 'C', 'C', 'D', 'B', 'B', 'D', 'C', 'C', 'B', 'C', 'B', 'A', 'D', 'B', 'C', 'A', 'B', 'C', 'C', 'B', 'A', 'B', 'C', 'C', 'A', 'B', 'D', 'C', 'C', 'D', 'C', 'C', 'B', 'D', 'D', 'D', 'D', 'C', 'B', 'A', 'A', 'D', 'D', 'C', 'B', 'D', 'A', 'A', 'C', 'C', 'A', 'A', 'A', 'A', 'C', 'B', 'D', 'A', 'A', 'B', 'B', 'D', 'A', 'B', 'A', 'C', 'A', 'A', 'B', 'A', 'A', 'C', 'A', 'A', 'B', 'B', 'B', 'C', 'C', 'C', 'C', 'D', 'D', 'A', 'D', 'B', 'D', 'D', 'C', 'D', 'D', 'B', 'A', 'B', 'A', 'C', 'C', 'B', 'B', 'D', 'A', 'C', 'B', 'D', 'B', 'A', 'D', 'C', 'B', 'D', 'B', 'B', 'D', 'D', 'A', 'A', 'D', 'D', 'B', 'A', 'A', 'C', 'D', 'D', 'C', 'A', 'A', 'B', 'D', 'D', 'D', 'B', 'B', 'D', 'B', 'A', 'A', 'A', 'B', 'B', 'C', 'A', 'D', 'B', 'B', 'A', 'B', 'C', 'D', 'A', 'A', 'A', 'B', 'B', 'C', 'C', 'B', 'D', 'B', 'B', 'B', 'D', 'D', 'D', 'B', 'A', 'A', 'A', 'C', 'D', 'D', 'C', 'A', 'B', 'D', 'B', 'D', 'D', 'A', 'D', 'A', 'D', 'D', 'A', 'A', 'C', 'B', 'B', 'C', 'C', 'C', 'C', 'B', 'B', 'B', 'C', 'D', 'C', 'B', 'D', 'D', 'B', 'A', 'B', 'A', 'D', 'D', 'A', 'A', 'D', 'C', 'C', 'C', 'B', 'A', 'A', 'B', 'B', 'C', 'D', 'C', 'B', 'A', 'A', 'B', 'A', 'B', 'C', 'A', 'A', 'B', 'C', 'D', 'C', 'C', 'A', 'A', 'C', 'A', 'C', 'C', 'B', 'B', 'A', 'C', 'A', 'C', 'B', 'B', 'B', 'B', 'B', 'C', 'A', 'A', 'D', 'B', 'D', 'C', 'C', 'C', 'B', 'C', 'B', 'C', 'B', 'D', 'C', 'A', 'A', 'D', 'A', 'C', 'B', 'B', 'C', 'D', 'D', 'A', 'D', 'C', 'C', 'C', 'C', 'A', 'D', 'D', 'B', 'A', 'C', 'C', 'C', 'A', 'A', 'D', 'C', 'D', 'C', 'C', 'C', 'C', 'D', 'A', 'D', 'B', 'D', 'A', 'D', 'C', 'C', 'B', 'A', 'D', 'C', 'B', 'B', 'C', 'C', 'B', 'B', 'C', 'C', 'C', 'B', 'A', 'D', 'D', 'B', 'C', 'B', 'C', 'B', 'B', 'C', 'D', 'A', 'B', 'D', 'C', 'C', 'C', 'B', 'B', 'D', 'C', 'B', 'B', 'C', 'C', 'A', 'C', 'D', 'D', 'D', 'C', 'A', 'D', 'D', 'D', 'D', 'A', 'C', 'D', 'C', 'B', 'C', 'A', 'D', 'A', 'D', 'C', 'D', 'C', 'A', 'D', 'C', 'D', 'C', 'B', 'C', 'A', 'D', 'D', 'C', 'B', 'D', 'C', 'A', 'D', 'D', 'D', 'C', 'A', 'C', 'C', 'B', 'A', 'A', 'C', 'C', 'A', 'A', 'D', 'D', 'B', 'C', 'D', 'A', 'A', 'C', 'A', 'A', 'A', 'D', 'C', 'A', 'D', 'B', 'C', 'D', 'B', 'A', 'C', 'C', 'A', 'C', 'D', 'C', 'D', 'C', 'C', 'C', 'C', 'D', 'B', 'D', 'D', 'D', 'A', 'B', 'D', 'B', 'C', 'C', 'D', 'D', 'D', 'A', 'B', 'A', 'D', 'D', 'B', 'D', 'A', 'A', 'C', 'D', 'D', 'D', 'B', 'D', 'D', 'C', 'D', 'C', 'A', 'C', 'C', 'D', 'D', 'C', 'D', 'A', 'B', 'D', 'C', 'B', 'A', 'D', 'C', 'B', 'C', 'A', 'C', 'C', 'B', 'B', 'C', 'C', 'D', 'B', 'A', 'C', 'C', 'C', 'B', 'D', 'D', 'A', 'C', 'D', 'C', 'D', 'A', 'B', 'B', 'A', 'B', 'A', 'A', 'D', 'D', 'B', 'D', 'C', 'B', 'D', 'C', 'A', 'C', 'D', 'B', 'B', 'C', 'C', 'B', 'D', 'A', 'D', 'D', 'B', 'A', 'D', 'C', 'D', 'B', 'D', 'D', 'A', 'B', 'C', 'A', 'A', 'D', 'D', 'C', 'C', 'C', 'D', 'B', 'C', 'B', 'D', 'C', 'C', 'A', 'A', 'B', 'D', 'C', 'C', 'D', 'D', 'B', 'D', 'B', 'C', 'C', 'A', 'C', 'C', 'B', 'B', 'C', 'B', 'D', 'D', 'D', 'B', 'C', 'D', 'C', 'D', 'A', 'D', 'D', 'A', 'C', 'C', 'A', 'B', 'A', 'C', 'C', 'A', 'C', 'B', 'D', 'C', 'C', 'A', 'C', 'C', 'C', 'B', 'B', 'D', 'A', 'A', 'B', 'A', 'C', 'C', 'A', 'D', 'D', 'C', 'A', 'B', 'C', 'B', 'D', 'D', 'D', 'B', 'A', 'C', 'D', 'C', 'D', 'B', 'C', 'D', 'A', 'A', 'A', 'D', 'C', 'C', 'C', 'A', 'C', 'A', 'C', 'C', 'C', 'B', 'D', 'B', 'A', 'C', 'C', 'D', 'C', 'D', 'D', 'B', 'C', 'A', 'C', 'A', 'A', 'C', 'C', 'A', 'A', 'D', 'B', 'C', 'C', 'C', 'B', 'C', 'B', 'A', 'D', 'C', 'D', 'C', 'D', 'C', 'A', 'C', 'C', 'D', 'A', 'C', 'D', 'A', 'D', 'B', 'B', 'A', 'A', 'A', 'D', 'C', 'B', 'B', 'A', 'D', 'C', 'D', 'C', 'B', 'B', 'C', 'A', 'B', 'D', 'D', 'A', 'A', 'A', 'C', 'B', 'C', 'C', 'A', 'B', 'A', 'C', 'A', 'C', 'D', 'B', 'B', 'D', 'B', 'C', 'C', 'D', 'A', 'D', 'B', 'C', 'B', 'D', 'D', 'C', 'C', 'C', 'C', 'D', 'A', 'B', 'B', 'A', 'B', 'B', 'C', 'C', 'C', 'B', 'C', 'D', 'B', 'B', 'A', 'D', 'D', 'D', 'D', 'C', 'B', 'D', 'C', 'D', 'C', 'A', 'A', 'D', 'B', 'A', 'B', 'A', 'C', 'C', 'C', 'B', 'B', 'B', 'C', 'B', 'A', 'D', 'A', 'B', 'D', 'D', 'B', 'A', 'A', 'B', 'B', 'D', 'B', 'D', 'A', 'A', 'A', 'B', 'D', 'C', 'D', 'D', 'C', 'C', 'D', 'A', 'C', 'A', 'D', 'C', 'D', 'A', 'B', 'C', 'D', 'B', 'A', 'B', 'A', 'B', 'D', 'A', 'A', 'B', 'A', 'C', 'D', 'C', 'B', 'C', 'C', 'D', 'D', 'D', 'B', 'D', 'C', 'B', 'D', 'D', 'C', 'A', 'C', 'C', 'A', 'B', 'B', 'B', 'A']\n",
      "1691\n",
      "2664\n"
     ]
    }
   ],
   "source": [
    "print(predict)\n",
    "real = test_data['class']\n",
    "real = real.values.tolist()\n",
    "print(real)\n",
    "\n",
    "count = 0\n",
    "for i in range(len(real)):\n",
    "    if predict[i] == real[i]:\n",
    "        count=count+1\n",
    "\n",
    "print(str(count))\n",
    "print(len(real))"
   ]
  },
  {
   "cell_type": "code",
   "execution_count": null,
   "metadata": {},
   "outputs": [],
   "source": []
  }
 ],
 "metadata": {
  "kernelspec": {
   "display_name": "Python 3",
   "language": "python",
   "name": "python3"
  },
  "language_info": {
   "codemirror_mode": {
    "name": "ipython",
    "version": 3
   },
   "file_extension": ".py",
   "mimetype": "text/x-python",
   "name": "python",
   "nbconvert_exporter": "python",
   "pygments_lexer": "ipython3",
   "version": "3.9.0"
  },
  "orig_nbformat": 4
 },
 "nbformat": 4,
 "nbformat_minor": 2
}
